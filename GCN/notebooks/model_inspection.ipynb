{
 "cells": [
  {
   "cell_type": "code",
   "execution_count": 1,
   "metadata": {},
   "outputs": [
    {
     "data": {
      "text/plain": [
       "'c:\\\\Users\\\\HP\\\\Desktop\\\\DS_DL\\\\pygcn'"
      ]
     },
     "execution_count": 1,
     "metadata": {},
     "output_type": "execute_result"
    }
   ],
   "source": [
    "import os\n",
    "\n",
    "os.chdir(\"../\")\n",
    "os.getcwd()"
   ]
  },
  {
   "cell_type": "code",
   "execution_count": 2,
   "metadata": {},
   "outputs": [
    {
     "name": "stdout",
     "output_type": "stream",
     "text": [
      "Loading cora dataset...\n"
     ]
    }
   ],
   "source": [
    "# load data\n",
    "from pygcn.utils import load_data\n",
    "\n",
    "adj, features, labels, idx_train, idx_val, idx_test = load_data(\n",
    "    path=\"./data/cora/\"\n",
    ")"
   ]
  },
  {
   "cell_type": "code",
   "execution_count": 3,
   "metadata": {},
   "outputs": [],
   "source": [
    "# import model\n",
    "from pygcn.models import GCN\n",
    "\n",
    "\n",
    "model = GCN(\n",
    "    nfeat=features.shape[1], #2700\n",
    "    nhid=2,\n",
    "    nclass=labels.max().item() + 1,\n",
    "    dropout=0.1\n",
    ")"
   ]
  },
  {
   "cell_type": "code",
   "execution_count": 4,
   "metadata": {},
   "outputs": [],
   "source": [
    "output = model(features, adj)"
   ]
  },
  {
   "cell_type": "code",
   "execution_count": 12,
   "metadata": {},
   "outputs": [
    {
     "data": {
      "text/plain": [
       "tensor([-2.3373, -2.0219, -1.8391, -1.7528, -1.7675, -2.1211, -1.9098],\n",
       "       grad_fn=<SelectBackward>)"
      ]
     },
     "execution_count": 12,
     "metadata": {},
     "output_type": "execute_result"
    }
   ],
   "source": [
    "output[0]"
   ]
  },
  {
   "cell_type": "code",
   "execution_count": 8,
   "metadata": {},
   "outputs": [
    {
     "data": {
      "text/plain": [
       "tensor([1, 0, 3, 3, 5, 5, 4, 1, 1, 4, 1, 6, 5, 2, 1, 1, 3, 1, 1, 1, 4, 3, 6, 5,\n",
       "        3, 4, 1, 5, 1, 0, 2, 1, 2, 1, 3, 3, 1, 3, 6, 3, 4, 5, 6, 1, 2, 3, 1, 2,\n",
       "        5, 2, 2, 5, 4, 6, 4, 6, 4, 3, 1, 1, 3, 2, 5, 3, 2, 6, 2, 5, 1, 2, 4, 5,\n",
       "        1, 3, 5, 2, 5, 1, 4, 4, 1, 5, 3, 1, 5, 3, 0, 0, 4, 4, 1, 1, 3, 5, 5, 5,\n",
       "        2, 1, 4, 5, 6, 1, 1, 3, 1, 5, 0, 5, 5, 4, 1, 1, 1, 1, 4, 5, 2, 5, 3, 0,\n",
       "        6, 1, 1, 1, 1, 1, 5, 1, 3, 6, 4, 5, 3, 1, 1, 0, 0, 5, 5, 6])"
      ]
     },
     "execution_count": 8,
     "metadata": {},
     "output_type": "execute_result"
    }
   ],
   "source": [
    "labels[idx_train]"
   ]
  },
  {
   "cell_type": "code",
   "execution_count": 9,
   "metadata": {},
   "outputs": [],
   "source": [
    "import torch\n",
    "import torch.nn.functional as F\n",
    "\n",
    "\n",
    "loss_train = F.nll_loss(output[idx_train], labels[idx_train])"
   ]
  },
  {
   "cell_type": "code",
   "execution_count": 10,
   "metadata": {},
   "outputs": [
    {
     "data": {
      "text/plain": [
       "tensor(1.9613, grad_fn=<NllLossBackward>)"
      ]
     },
     "execution_count": 10,
     "metadata": {},
     "output_type": "execute_result"
    }
   ],
   "source": [
    "loss_train"
   ]
  }
 ],
 "metadata": {
  "interpreter": {
   "hash": "1e915f0a29dc84041eaeb02b7b1a21c440e37a87b61d44d5e84a515737dc82bc"
  },
  "kernelspec": {
   "display_name": "Python 3.8.5 64-bit ('base': conda)",
   "language": "python",
   "name": "python3"
  },
  "language_info": {
   "codemirror_mode": {
    "name": "ipython",
    "version": 3
   },
   "file_extension": ".py",
   "mimetype": "text/x-python",
   "name": "python",
   "nbconvert_exporter": "python",
   "pygments_lexer": "ipython3",
   "version": "3.8.5"
  },
  "orig_nbformat": 4
 },
 "nbformat": 4,
 "nbformat_minor": 2
}
