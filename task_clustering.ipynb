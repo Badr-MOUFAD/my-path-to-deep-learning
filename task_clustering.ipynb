{
 "cells": [
  {
   "cell_type": "code",
   "execution_count": 10,
   "metadata": {},
   "outputs": [
    {
     "data": {
      "text/plain": [
       "array([[0., 3., 3., 2., 1., 1.],\n",
       "       [3., 0., 1., 1., 2., 3.],\n",
       "       [3., 1., 0., 1., 2., 3.],\n",
       "       [2., 1., 1., 0., 1., 2.],\n",
       "       [1., 2., 2., 1., 0., 1.],\n",
       "       [1., 3., 3., 2., 1., 0.]])"
      ]
     },
     "execution_count": 10,
     "metadata": {},
     "output_type": "execute_result"
    }
   ],
   "source": [
    "import numpy as np\n",
    "\n",
    "dis_matrix = np.array(\n",
    "    [\n",
    "        [0, 3, 3, 2, 1, 1],\n",
    "        [3, 0, 1, 1, 2, 3],\n",
    "        [3, 1, 0, 1, 2, 3],\n",
    "        [2, 1, 1, 0, 1, 2],\n",
    "        [1, 2, 2, 1, 0, 1], \n",
    "        [1, 3, 3, 2, 1, 0],\n",
    "    ],\n",
    "    dtype=float\n",
    ")\n",
    "\n",
    "dis_matrix"
   ]
  },
  {
   "cell_type": "code",
   "execution_count": 9,
   "metadata": {},
   "outputs": [
    {
     "name": "stderr",
     "output_type": "stream",
     "text": [
      "<ipython-input-9-22db2a7bb4a7>:4: ClusterWarning: scipy.cluster: The symmetric non-negative hollow observation matrix looks suspiciously like an uncondensed distance matrix\n",
      "  Z = linkage(dis_matrix, metric=metric, method=linkage_method)\n"
     ]
    },
    {
     "data": {
      "image/png": "[encoded data removed]",
      "text/plain": [
       "<Figure size 432x288 with 1 Axes>"
      ]
     },
     "metadata": {
      "needs_background": "light"
     },
     "output_type": "display_data"
    }
   ],
   "source": [
    "from scipy.cluster.hierarchy import dendrogram, linkage\n",
    "from matplotlib import pyplot as plt\n",
    "\n",
    "# params\n",
    "metric = \"euclidean\"\n",
    "linkage_method = \"single\"\n",
    "\n",
    "Z = linkage(dis_matrix, metric=metric, method=linkage_method)\n",
    "dn = dendrogram(Z)"
   ]
  },
  {
   "cell_type": "code",
   "execution_count": null,
   "metadata": {},
   "outputs": [],
   "source": []
  }
 ],
 "metadata": {
  "interpreter": {
   "hash": "1e915f0a29dc84041eaeb02b7b1a21c440e37a87b61d44d5e84a515737dc82bc"
  },
  "kernelspec": {
   "display_name": "Python 3.8.5 64-bit ('base': conda)",
   "language": "python",
   "name": "python3"
  },
  "language_info": {
   "codemirror_mode": {
    "name": "ipython",
    "version": 3
   },
   "file_extension": ".py",
   "mimetype": "text/x-python",
   "name": "python",
   "nbconvert_exporter": "python",
   "pygments_lexer": "ipython3",
   "version": "3.8.5"
  },
  "orig_nbformat": 4
 },
 "nbformat": 4,
 "nbformat_minor": 2
}
